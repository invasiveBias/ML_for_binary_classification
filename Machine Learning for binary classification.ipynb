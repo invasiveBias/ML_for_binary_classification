{
 "cells": [
  {
   "cell_type": "markdown",
   "id": "0ba5a818",
   "metadata": {},
   "source": [
    "# WELCOME TO UCHE'S 2ND PROJECT\n",
    "- This is my second portfolio Project where i'll be working on training a Machine Learning model & then integrating it with a feature engineering tool for raw Data processing,which would allow for Binary classification of the Data by the trained model.\n",
    "- The aim of the Project is to train an ML model that will predict wheither urls are harmful(Phishing urls) or the urls are safe & then to create a feature Engineering tool,that will take urls in string format & then extract the features of the urls as numerical vectors which would then be given to the trained model for classification.\n",
    "- The Dataset to be used for training the model was gotten from Kaggle,(more details will be given about the data on the next cell).\n",
    "- The Project will be divided into proceedures & substeps for easier comprehension."
   ]
  },
  {
   "cell_type": "markdown",
   "id": "d61f7e9b",
   "metadata": {},
   "source": [
    "# About the Data\n",
    "The Data is titled 'phishing-data' & it was gotten from the Kaggle community free datasets(download link will be displayed in the code).It primarily contains over 95000 urls,which are either declared to be harmful or safe.The data also contain other values which represent the features for the eventual classification of the urls,the columns of the data are:\n",
    "1. domain: The URL itself.\n",
    "2. ranking: Page Ranking on Google fetched from a google page rank checker\n",
    "3. isIp: Is there an IP address in the weblink\n",
    "4. valid: This data is fetched from google's whois API that tells us more about the current status of the URL's registration.\n",
    "5. activeDuration: Also from whois API. Gives the duration of the time in days since the registration up until now\n",
    "6. urlLen: It is simply the length of the URL\n",
    "7. is@: If the link has a '@' character then it's value = 1\n",
    "8. isredirect: If the link has double slashes,there is a chance that it is a redirect. (will be equal to 1 if multiple slashes are present together).\n",
    "9. haveDash: If there are any dashes in the domain name.\n",
    "10. domainLen: The length of just the domain name.\n",
    "11. noOfSubdomain: The number of subdomains preset in the URL.\n",
    "12. Labels: 0 is Legitimate website , 1 is Phishing Link/ Spam Link"
   ]
  },
  {
   "cell_type": "markdown",
   "id": "16e6fbd0",
   "metadata": {},
   "source": [
    "# Proceedure 1- Importing the Data, creating a dataframe & perfroming simple E.D.A.\n",
    "The Data will be directly imported from kaggle & to do this, we would use the **\"opendatasets\"** module, which is used to download datsets from Kaggle & also Google Drive. Pandas will be used to input the values into a dataframe from which we would run simple Exploratory Data Analysis."
   ]
  },
  {
   "cell_type": "code",
   "execution_count": 1,
   "id": "4d143362",
   "metadata": {},
   "outputs": [],
   "source": [
    "import opendatasets as od, pandas as pd"
   ]
  },
  {
   "cell_type": "code",
   "execution_count": 2,
   "id": "f62f29da",
   "metadata": {},
   "outputs": [],
   "source": [

    "od.download('https://www.kaggle.com/datasets/aman9d/phishing-data')"
   ]
  },
  {
   "cell_type": "code",
   "execution_count": 3,
   "id": "cb7d2e0d",
   "metadata": {
    "scrolled": false
   },
   "outputs": [
    {
     "data": {
      "text/html": [
       "<div>\n",
       "<style scoped>\n",
       "    .dataframe tbody tr th:only-of-type {\n",
       "        vertical-align: middle;\n",
       "    }\n",
       "\n",
       "    .dataframe tbody tr th {\n",
       "        vertical-align: top;\n",
       "    }\n",
       "\n",
       "    .dataframe thead th {\n",
       "        text-align: right;\n",
       "    }\n",
       "</style>\n",
       "<table border=\"1\" class=\"dataframe\">\n",
       "  <thead>\n",
       "    <tr style=\"text-align: right;\">\n",
       "      <th></th>\n",
       "      <th>domain</th>\n",
       "      <th>ranking</th>\n",
       "      <th>isIp</th>\n",
       "      <th>valid</th>\n",
       "      <th>activeDuration</th>\n",
       "      <th>urlLen</th>\n",
       "      <th>is@</th>\n",
       "      <th>isredirect</th>\n",
       "      <th>haveDash</th>\n",
       "      <th>domainLen</th>\n",
       "      <th>nosOfSubdomain</th>\n",
       "      <th>label</th>\n",
       "    </tr>\n",
       "  </thead>\n",
       "  <tbody>\n",
       "    <tr>\n",
       "      <th>0</th>\n",
       "      <td>www.voting-yahoo.com</td>\n",
       "      <td>10000000</td>\n",
       "      <td>0</td>\n",
       "      <td>0</td>\n",
       "      <td>0</td>\n",
       "      <td>20</td>\n",
       "      <td>0</td>\n",
       "      <td>0</td>\n",
       "      <td>1</td>\n",
       "      <td>20</td>\n",
       "      <td>2</td>\n",
       "      <td>1</td>\n",
       "    </tr>\n",
       "    <tr>\n",
       "      <th>1</th>\n",
       "      <td>www.zvon.org/xxl/WSDL1.1/Output/index.html</td>\n",
       "      <td>194914</td>\n",
       "      <td>0</td>\n",
       "      <td>1</td>\n",
       "      <td>7305</td>\n",
       "      <td>42</td>\n",
       "      <td>0</td>\n",
       "      <td>0</td>\n",
       "      <td>0</td>\n",
       "      <td>12</td>\n",
       "      <td>2</td>\n",
       "      <td>0</td>\n",
       "    </tr>\n",
       "    <tr>\n",
       "      <th>2</th>\n",
       "      <td>tecportais.com/file-security-update-infonfmati...</td>\n",
       "      <td>10000000</td>\n",
       "      <td>0</td>\n",
       "      <td>0</td>\n",
       "      <td>0</td>\n",
       "      <td>155</td>\n",
       "      <td>0</td>\n",
       "      <td>0</td>\n",
       "      <td>0</td>\n",
       "      <td>14</td>\n",
       "      <td>1</td>\n",
       "      <td>1</td>\n",
       "    </tr>\n",
       "    <tr>\n",
       "      <th>3</th>\n",
       "      <td>bima.astro.umd.edu/nemo/linuxastro/</td>\n",
       "      <td>7001</td>\n",
       "      <td>0</td>\n",
       "      <td>0</td>\n",
       "      <td>0</td>\n",
       "      <td>35</td>\n",
       "      <td>0</td>\n",
       "      <td>0</td>\n",
       "      <td>0</td>\n",
       "      <td>18</td>\n",
       "      <td>3</td>\n",
       "      <td>0</td>\n",
       "    </tr>\n",
       "    <tr>\n",
       "      <th>4</th>\n",
       "      <td>huarui-tec.com/js/?us.battle.net/login/en/?ref...</td>\n",
       "      <td>10000000</td>\n",
       "      <td>0</td>\n",
       "      <td>1</td>\n",
       "      <td>730</td>\n",
       "      <td>79</td>\n",
       "      <td>0</td>\n",
       "      <td>0</td>\n",
       "      <td>1</td>\n",
       "      <td>14</td>\n",
       "      <td>1</td>\n",
       "      <td>1</td>\n",
       "    </tr>\n",
       "    <tr>\n",
       "      <th>...</th>\n",
       "      <td>...</td>\n",
       "      <td>...</td>\n",
       "      <td>...</td>\n",
       "      <td>...</td>\n",
       "      <td>...</td>\n",
       "      <td>...</td>\n",
       "      <td>...</td>\n",
       "      <td>...</td>\n",
       "      <td>...</td>\n",
       "      <td>...</td>\n",
       "      <td>...</td>\n",
       "      <td>...</td>\n",
       "    </tr>\n",
       "    <tr>\n",
       "      <th>95905</th>\n",
       "      <td>www.freewebs.com/ryanrules2/</td>\n",
       "      <td>5001</td>\n",
       "      <td>0</td>\n",
       "      <td>1</td>\n",
       "      <td>8035</td>\n",
       "      <td>28</td>\n",
       "      <td>0</td>\n",
       "      <td>0</td>\n",
       "      <td>0</td>\n",
       "      <td>16</td>\n",
       "      <td>2</td>\n",
       "      <td>0</td>\n",
       "    </tr>\n",
       "    <tr>\n",
       "      <th>95906</th>\n",
       "      <td>www.ireland-information.com/freecelticfonts.htm</td>\n",
       "      <td>230251</td>\n",
       "      <td>0</td>\n",
       "      <td>1</td>\n",
       "      <td>8400</td>\n",
       "      <td>47</td>\n",
       "      <td>0</td>\n",
       "      <td>0</td>\n",
       "      <td>1</td>\n",
       "      <td>27</td>\n",
       "      <td>2</td>\n",
       "      <td>0</td>\n",
       "    </tr>\n",
       "    <tr>\n",
       "      <th>95907</th>\n",
       "      <td>www.clubtaunus.soroptimist.de/img/pro/e.php</td>\n",
       "      <td>10000000</td>\n",
       "      <td>0</td>\n",
       "      <td>0</td>\n",
       "      <td>0</td>\n",
       "      <td>43</td>\n",
       "      <td>0</td>\n",
       "      <td>0</td>\n",
       "      <td>0</td>\n",
       "      <td>29</td>\n",
       "      <td>3</td>\n",
       "      <td>1</td>\n",
       "    </tr>\n",
       "    <tr>\n",
       "      <th>95908</th>\n",
       "      <td>www.askmen.com/sports/business/index.html</td>\n",
       "      <td>2008</td>\n",
       "      <td>0</td>\n",
       "      <td>1</td>\n",
       "      <td>9862</td>\n",
       "      <td>41</td>\n",
       "      <td>0</td>\n",
       "      <td>0</td>\n",
       "      <td>0</td>\n",
       "      <td>14</td>\n",
       "      <td>2</td>\n",
       "      <td>0</td>\n",
       "    </tr>\n",
       "    <tr>\n",
       "      <th>95909</th>\n",
       "      <td>xosothudo.com.vn/paypal.co.il/paypal.co.il.cgi...</td>\n",
       "      <td>771840</td>\n",
       "      <td>0</td>\n",
       "      <td>0</td>\n",
       "      <td>0</td>\n",
       "      <td>323</td>\n",
       "      <td>0</td>\n",
       "      <td>0</td>\n",
       "      <td>0</td>\n",
       "      <td>16</td>\n",
       "      <td>2</td>\n",
       "      <td>1</td>\n",
       "    </tr>\n",
       "  </tbody>\n",
       "</table>\n",
       "<p>95910 rows × 12 columns</p>\n",
       "</div>"
      ],
      "text/plain": [
       "                                                  domain   ranking  isIp  \\\n",
       "0                                   www.voting-yahoo.com  10000000     0   \n",
       "1             www.zvon.org/xxl/WSDL1.1/Output/index.html    194914     0   \n",
       "2      tecportais.com/file-security-update-infonfmati...  10000000     0   \n",
       "3                    bima.astro.umd.edu/nemo/linuxastro/      7001     0   \n",
       "4      huarui-tec.com/js/?us.battle.net/login/en/?ref...  10000000     0   \n",
       "...                                                  ...       ...   ...   \n",
       "95905                       www.freewebs.com/ryanrules2/      5001     0   \n",
       "95906    www.ireland-information.com/freecelticfonts.htm    230251     0   \n",
       "95907        www.clubtaunus.soroptimist.de/img/pro/e.php  10000000     0   \n",
       "95908          www.askmen.com/sports/business/index.html      2008     0   \n",
       "95909  xosothudo.com.vn/paypal.co.il/paypal.co.il.cgi...    771840     0   \n",
       "\n",
       "       valid  activeDuration  urlLen  is@  isredirect  haveDash  domainLen  \\\n",
       "0          0               0      20    0           0         1         20   \n",
       "1          1            7305      42    0           0         0         12   \n",
       "2          0               0     155    0           0         0         14   \n",
       "3          0               0      35    0           0         0         18   \n",
       "4          1             730      79    0           0         1         14   \n",
       "...      ...             ...     ...  ...         ...       ...        ...   \n",
       "95905      1            8035      28    0           0         0         16   \n",
       "95906      1            8400      47    0           0         1         27   \n",
       "95907      0               0      43    0           0         0         29   \n",
       "95908      1            9862      41    0           0         0         14   \n",
       "95909      0               0     323    0           0         0         16   \n",
       "\n",
       "       nosOfSubdomain  label  \n",
       "0                   2      1  \n",
       "1                   2      0  \n",
       "2                   1      1  \n",
       "3                   3      0  \n",
       "4                   1      1  \n",
       "...               ...    ...  \n",
       "95905               2      0  \n",
       "95906               2      0  \n",
       "95907               3      1  \n",
       "95908               2      0  \n",
       "95909               2      1  \n",
       "\n",
       "[95910 rows x 12 columns]"
      ]
     },
     "execution_count": 3,
     "metadata": {},
     "output_type": "execute_result"
    }
   ],
   "source": [
    "data = pd.read_csv('phishing-data/combined_dataset.csv')\n",
    "data"
   ]
  },
  {
   "cell_type": "markdown",
   "id": "1324518c",
   "metadata": {},
   "source": [
    "**Performing the E.D.A**"
   ]
  },
  {
   "cell_type": "code",
   "execution_count": 4,
   "id": "08767d65",
   "metadata": {},
   "outputs": [
    {
     "data": {
      "text/plain": [
       "(95910, 12)"
      ]
     },
     "execution_count": 4,
     "metadata": {},
     "output_type": "execute_result"
    }
   ],
   "source": [
    "data.shape"
   ]
  },
  {
   "cell_type": "code",
   "execution_count": 5,
   "id": "0578454e",
   "metadata": {},
   "outputs": [
    {
     "data": {
      "text/plain": [
       "domain            False\n",
       "ranking           False\n",
       "isIp              False\n",
       "valid             False\n",
       "activeDuration    False\n",
       "urlLen            False\n",
       "is@               False\n",
       "isredirect        False\n",
       "haveDash          False\n",
       "domainLen         False\n",
       "nosOfSubdomain    False\n",
       "label             False\n",
       "dtype: bool"
      ]
     },
     "execution_count": 5,
     "metadata": {},
     "output_type": "execute_result"
    }
   ],
   "source": [
    "data.isnull().any()"
   ]
  },
  {
   "cell_type": "code",
   "execution_count": 6,
   "id": "f14dabb7",
   "metadata": {},
   "outputs": [
    {
     "data": {
      "text/html": [
       "<div>\n",
       "<style scoped>\n",
       "    .dataframe tbody tr th:only-of-type {\n",
       "        vertical-align: middle;\n",
       "    }\n",
       "\n",
       "    .dataframe tbody tr th {\n",
       "        vertical-align: top;\n",
       "    }\n",
       "\n",
       "    .dataframe thead th {\n",
       "        text-align: right;\n",
       "    }\n",
       "</style>\n",
       "<table border=\"1\" class=\"dataframe\">\n",
       "  <thead>\n",
       "    <tr style=\"text-align: right;\">\n",
       "      <th></th>\n",
       "      <th>ranking</th>\n",
       "      <th>isIp</th>\n",
       "      <th>valid</th>\n",
       "      <th>activeDuration</th>\n",
       "      <th>urlLen</th>\n",
       "      <th>is@</th>\n",
       "      <th>isredirect</th>\n",
       "      <th>haveDash</th>\n",
       "      <th>domainLen</th>\n",
       "      <th>nosOfSubdomain</th>\n",
       "      <th>label</th>\n",
       "    </tr>\n",
       "  </thead>\n",
       "  <tbody>\n",
       "    <tr>\n",
       "      <th>count</th>\n",
       "      <td>9.591000e+04</td>\n",
       "      <td>95910.000000</td>\n",
       "      <td>95910.000000</td>\n",
       "      <td>95910.000000</td>\n",
       "      <td>95910.000000</td>\n",
       "      <td>95910.000000</td>\n",
       "      <td>95910.000000</td>\n",
       "      <td>95910.000000</td>\n",
       "      <td>95910.000000</td>\n",
       "      <td>95910.000000</td>\n",
       "      <td>95910.000000</td>\n",
       "    </tr>\n",
       "    <tr>\n",
       "      <th>mean</th>\n",
       "      <td>6.118618e+06</td>\n",
       "      <td>0.000229</td>\n",
       "      <td>0.573892</td>\n",
       "      <td>3747.876144</td>\n",
       "      <td>69.327442</td>\n",
       "      <td>0.002773</td>\n",
       "      <td>0.007444</td>\n",
       "      <td>0.157856</td>\n",
       "      <td>23.409061</td>\n",
       "      <td>2.387718</td>\n",
       "      <td>0.582984</td>\n",
       "    </tr>\n",
       "    <tr>\n",
       "      <th>std</th>\n",
       "      <td>4.835254e+06</td>\n",
       "      <td>0.015144</td>\n",
       "      <td>0.494512</td>\n",
       "      <td>3974.587188</td>\n",
       "      <td>69.740134</td>\n",
       "      <td>0.052591</td>\n",
       "      <td>0.085960</td>\n",
       "      <td>0.364608</td>\n",
       "      <td>25.426852</td>\n",
       "      <td>2.140997</td>\n",
       "      <td>0.493068</td>\n",
       "    </tr>\n",
       "    <tr>\n",
       "      <th>min</th>\n",
       "      <td>1.000000e+00</td>\n",
       "      <td>0.000000</td>\n",
       "      <td>0.000000</td>\n",
       "      <td>0.000000</td>\n",
       "      <td>9.000000</td>\n",
       "      <td>0.000000</td>\n",
       "      <td>0.000000</td>\n",
       "      <td>0.000000</td>\n",
       "      <td>3.000000</td>\n",
       "      <td>0.000000</td>\n",
       "      <td>0.000000</td>\n",
       "    </tr>\n",
       "    <tr>\n",
       "      <th>25%</th>\n",
       "      <td>3.205600e+04</td>\n",
       "      <td>0.000000</td>\n",
       "      <td>0.000000</td>\n",
       "      <td>0.000000</td>\n",
       "      <td>31.000000</td>\n",
       "      <td>0.000000</td>\n",
       "      <td>0.000000</td>\n",
       "      <td>0.000000</td>\n",
       "      <td>14.000000</td>\n",
       "      <td>2.000000</td>\n",
       "      <td>0.000000</td>\n",
       "    </tr>\n",
       "    <tr>\n",
       "      <th>50%</th>\n",
       "      <td>1.000000e+07</td>\n",
       "      <td>0.000000</td>\n",
       "      <td>1.000000</td>\n",
       "      <td>2192.000000</td>\n",
       "      <td>44.000000</td>\n",
       "      <td>0.000000</td>\n",
       "      <td>0.000000</td>\n",
       "      <td>0.000000</td>\n",
       "      <td>17.000000</td>\n",
       "      <td>2.000000</td>\n",
       "      <td>1.000000</td>\n",
       "    </tr>\n",
       "    <tr>\n",
       "      <th>75%</th>\n",
       "      <td>1.000000e+07</td>\n",
       "      <td>0.000000</td>\n",
       "      <td>1.000000</td>\n",
       "      <td>7670.000000</td>\n",
       "      <td>78.000000</td>\n",
       "      <td>0.000000</td>\n",
       "      <td>0.000000</td>\n",
       "      <td>0.000000</td>\n",
       "      <td>22.000000</td>\n",
       "      <td>2.000000</td>\n",
       "      <td>1.000000</td>\n",
       "    </tr>\n",
       "    <tr>\n",
       "      <th>max</th>\n",
       "      <td>1.000000e+07</td>\n",
       "      <td>1.000000</td>\n",
       "      <td>1.000000</td>\n",
       "      <td>15707.000000</td>\n",
       "      <td>2175.000000</td>\n",
       "      <td>1.000000</td>\n",
       "      <td>1.000000</td>\n",
       "      <td>1.000000</td>\n",
       "      <td>244.000000</td>\n",
       "      <td>34.000000</td>\n",
       "      <td>1.000000</td>\n",
       "    </tr>\n",
       "  </tbody>\n",
       "</table>\n",
       "</div>"
      ],
      "text/plain": [
       "            ranking          isIp         valid  activeDuration        urlLen  \\\n",
       "count  9.591000e+04  95910.000000  95910.000000    95910.000000  95910.000000   \n",
       "mean   6.118618e+06      0.000229      0.573892     3747.876144     69.327442   \n",
       "std    4.835254e+06      0.015144      0.494512     3974.587188     69.740134   \n",
       "min    1.000000e+00      0.000000      0.000000        0.000000      9.000000   \n",
       "25%    3.205600e+04      0.000000      0.000000        0.000000     31.000000   \n",
       "50%    1.000000e+07      0.000000      1.000000     2192.000000     44.000000   \n",
       "75%    1.000000e+07      0.000000      1.000000     7670.000000     78.000000   \n",
       "max    1.000000e+07      1.000000      1.000000    15707.000000   2175.000000   \n",
       "\n",
       "                is@    isredirect      haveDash     domainLen  nosOfSubdomain  \\\n",
       "count  95910.000000  95910.000000  95910.000000  95910.000000    95910.000000   \n",
       "mean       0.002773      0.007444      0.157856     23.409061        2.387718   \n",
       "std        0.052591      0.085960      0.364608     25.426852        2.140997   \n",
       "min        0.000000      0.000000      0.000000      3.000000        0.000000   \n",
       "25%        0.000000      0.000000      0.000000     14.000000        2.000000   \n",
       "50%        0.000000      0.000000      0.000000     17.000000        2.000000   \n",
       "75%        0.000000      0.000000      0.000000     22.000000        2.000000   \n",
       "max        1.000000      1.000000      1.000000    244.000000       34.000000   \n",
       "\n",
       "              label  \n",
       "count  95910.000000  \n",
       "mean       0.582984  \n",
       "std        0.493068  \n",
       "min        0.000000  \n",
       "25%        0.000000  \n",
       "50%        1.000000  \n",
       "75%        1.000000  \n",
       "max        1.000000  "
      ]
     },
     "execution_count": 6,
     "metadata": {},
     "output_type": "execute_result"
    }
   ],
   "source": [
    "data.describe()"
   ]
  },
  {
   "cell_type": "markdown",
   "id": "ce36bdd9",
   "metadata": {},
   "source": [
    "# Proceedure 2- Exploratory Data Visualization\n",
    "Since we're using the Data to train an ML model,it's important that we study the relationship of each feature with the labels & to understand which features have the strongest influence on a classification output,the fastest way to do this is by plotting each column against the label column,then we would be to easily & quickly analyse the feature-label relationships. To create the plots, we would use the **Seaborn**  Visualization library.."
   ]
  },
  {
   "cell_type": "code",
   "execution_count": 7,
   "id": "763e83dc",
   "metadata": {},
   "outputs": [],
   "source": [
    "import seaborn as sns,matplotlib.pyplot as plt\n",
    "%matplotlib inline"
   ]
  },
  {
   "cell_type": "code",
   "execution_count": 8,
   "id": "b16e3eb9",
   "metadata": {},
   "outputs": [
    {
     "data": {
      "text/plain": [
       "<AxesSubplot:xlabel='ranking', ylabel='label'>"
      ]
     },
     "execution_count": 8,
     "metadata": {},
     "output_type": "execute_result"
    },
    {
     "data": {
      "image/png": "[encoded data removed]",
      "text/plain": [
       "<Figure size 432x288 with 1 Axes>"
      ]
     },
     "metadata": {
      "needs_background": "light"
     },
     "output_type": "display_data"
    }
   ],
   "source": [
    "# scatterplot of the \"ranking\" column against the 'label\"\n",
    "sns.scatterplot(data=data, x='ranking',y='label')"
   ]
  },
  {
   "cell_type": "code",
   "execution_count": 9,
   "id": "306baf02",
   "metadata": {},
   "outputs": [
    {
     "data": {
      "text/plain": [
       "<AxesSubplot:xlabel='isIp', ylabel='label'>"
      ]
     },
     "execution_count": 9,
     "metadata": {},
     "output_type": "execute_result"
    },
    {
     "data": {
      "image/png": "[encoded data removed]",
      "text/plain": [
       "<Figure size 432x288 with 1 Axes>"
      ]
     },
     "metadata": {
      "needs_background": "light"
     },
     "output_type": "display_data"
    }
   ],
   "source": [
    "# scatterplot of the \"isIp\" column against the 'label\"\n",
    "sns.scatterplot(data=data, x='isIp',y='label')"
   ]
  },
  {
   "cell_type": "code",
   "execution_count": 10,
   "id": "99f1a83b",
   "metadata": {},
   "outputs": [
    {
     "data": {
      "text/plain": [
       "<AxesSubplot:xlabel='valid', ylabel='label'>"
      ]
     },
     "execution_count": 10,
     "metadata": {},
     "output_type": "execute_result"
    },
    {
     "data": {
      "image/png": "[encoded data removed]",
      "text/plain": [
       "<Figure size 432x288 with 1 Axes>"
      ]
     },
     "metadata": {
      "needs_background": "light"
     },
     "output_type": "display_data"
    }
   ],
   "source": [
    "# scatterplot of the \"valid\" column against the 'label\"\n",
    "sns.scatterplot(data=data, x='valid',y='label')"
   ]
  },
  {
   "cell_type": "code",
   "execution_count": 11,
   "id": "0a8b876d",
   "metadata": {},
   "outputs": [
    {
     "data": {
      "text/plain": [
       "<AxesSubplot:xlabel='activeDuration', ylabel='label'>"
      ]
     },
     "execution_count": 11,
     "metadata": {},
     "output_type": "execute_result"
    },
    {
     "data": {
      "image/png": "[encoded data removed]",
      "text/plain": [
       "<Figure size 432x288 with 1 Axes>"
      ]
     },
     "metadata": {
      "needs_background": "light"
     },
     "output_type": "display_data"
    }
   ],
   "source": [
    "# scatterplot of the \"activeDuration\" column against the 'label\"\n",
    "sns.scatterplot(data=data, x='activeDuration',y='label')"
   ]
  },
  {
   "cell_type": "code",
   "execution_count": 12,
   "id": "8db9967e",
   "metadata": {},
   "outputs": [
    {
     "data": {
      "text/plain": [
       "<AxesSubplot:xlabel='urlLen', ylabel='label'>"
      ]
     },
     "execution_count": 12,
     "metadata": {},
     "output_type": "execute_result"
    },
    {
     "data": {
      "image/png": "[encoded data removed]",
      "text/plain": [
       "<Figure size 432x288 with 1 Axes>"
      ]
     },
     "metadata": {
      "needs_background": "light"
     },
     "output_type": "display_data"
    }
   ],
   "source": [
    "# scatterplot of the \"urlLen\" column against the 'label\"\n",
    "sns.scatterplot(data=data, x='urlLen',y='label')"
   ]
  },
  {
   "cell_type": "code",
   "execution_count": 13,
   "id": "31b23c2c",
   "metadata": {},
   "outputs": [
    {
     "data": {
      "text/plain": [
       "<AxesSubplot:xlabel='is@', ylabel='label'>"
      ]
     },
     "execution_count": 13,
     "metadata": {},
     "output_type": "execute_result"
    },
    {
     "data": {
      "image/png": "[encoded data removed]",
      "text/plain": [
       "<Figure size 432x288 with 1 Axes>"
      ]
     },
     "metadata": {
      "needs_background": "light"
     },
     "output_type": "display_data"
    }
   ],
   "source": [
    "# scatterplot of the \"is@\" column against the 'label\"\n",
    "sns.scatterplot(data=data, x='is@',y='label')"
   ]
  },
  {
   "cell_type": "code",
   "execution_count": 14,
   "id": "e86c58b7",
   "metadata": {},
   "outputs": [
    {
     "data": {
      "text/plain": [
       "<AxesSubplot:xlabel='isredirect', ylabel='label'>"
      ]
     },
     "execution_count": 14,
     "metadata": {},
     "output_type": "execute_result"
    },
    {
     "data": {
      "image/png": "[encoded data removed]",
      "text/plain": [
       "<Figure size 432x288 with 1 Axes>"
      ]
     },
     "metadata": {
      "needs_background": "light"
     },
     "output_type": "display_data"
    }
   ],
   "source": [
    "# scatterplot of the \"isredirect\" column against the 'label\"\n",
    "sns.scatterplot(data=data, x='isredirect',y='label')"
   ]
  },
  {
   "cell_type": "code",
   "execution_count": 15,
   "id": "360baf60",
   "metadata": {},
   "outputs": [
    {
     "data": {
      "text/plain": [
       "<AxesSubplot:xlabel='haveDash', ylabel='label'>"
      ]
     },
     "execution_count": 15,
     "metadata": {},
     "output_type": "execute_result"
    },
    {
     "data": {
      "image/png": "[encoded data removed]",
      "text/plain": [
       "<Figure size 432x288 with 1 Axes>"
      ]
     },
     "metadata": {
      "needs_background": "light"
     },
     "output_type": "display_data"
    }
   ],
   "source": [
    "# scatterplot of the \"heDash\" column against the 'label\"\n",
    "sns.scatterplot(data=data, x='haveDash',y='label')"
   ]
  },
  {
   "cell_type": "code",
   "execution_count": 16,
   "id": "19bd3d86",
   "metadata": {},
   "outputs": [
    {
     "data": {
      "text/plain": [
       "<AxesSubplot:xlabel='domainLen', ylabel='label'>"
      ]
     },
     "execution_count": 16,
     "metadata": {},
     "output_type": "execute_result"
    },
    {
     "data": {
      "image/png": "[encoded data removed]",
      "text/plain": [
       "<Figure size 432x288 with 1 Axes>"
      ]
     },
     "metadata": {
      "needs_background": "light"
     },
     "output_type": "display_data"
    }
   ],
   "source": [
    "# scatterplot of the \"domainLen\" column against the 'label\"\n",
    "sns.scatterplot(data=data, x='domainLen',y='label')"
   ]
  },
  {
   "cell_type": "code",
   "execution_count": 17,
   "id": "ff135d2a",
   "metadata": {},
   "outputs": [
    {
     "data": {
      "text/plain": [
       "<AxesSubplot:xlabel='nosOfSubdomain', ylabel='label'>"
      ]
     },
     "execution_count": 17,
     "metadata": {},
     "output_type": "execute_result"
    },
    {
     "data": {
      "image/png": "[encoded data removed]",
      "text/plain": [
       "<Figure size 432x288 with 1 Axes>"
      ]
     },
     "metadata": {
      "needs_background": "light"
     },
     "output_type": "display_data"
    }
   ],
   "source": [
    "# scatterplot of the \"nosOfSubdomain\" column against the 'label\"\n",
    "sns.scatterplot(data=data, x='nosOfSubdomain',y='label')"
   ]
  },
  {
   "cell_type": "markdown",
   "id": "51c187c9",
   "metadata": {},
   "source": [
    "**Some General vvisualisations**"
   ]
  },
  {
   "cell_type": "code",
   "execution_count": 18,
   "id": "5e570446",
   "metadata": {},
   "outputs": [
    {
     "data": {
      "text/plain": [
       "<AxesSubplot:>"
      ]
     },
     "execution_count": 18,
     "metadata": {},
     "output_type": "execute_result"
    },
    {
     "data": {
      "image/png": "[encoded data removed]",
      "text/plain": [
       "<Figure size 1080x360 with 1 Axes>"
      ]
     },
     "metadata": {
      "needs_background": "light"
     },
     "output_type": "display_data"
    }
   ],
   "source": [
    "# boxplot representing all the features of the data\n",
    "plt.figure(figsize=(15,5))\n",
    "data.boxplot()"
   ]
  },
  {
   "cell_type": "code",
   "execution_count": 19,
   "id": "44230f38",
   "metadata": {},
   "outputs": [
    {
     "data": {
      "text/plain": [
       "<AxesSubplot:xlabel='nosOfSubdomain', ylabel='domainLen'>"
      ]
     },
     "execution_count": 19,
     "metadata": {},
     "output_type": "execute_result"
    },
    {
     "data": {
      "image/png": "[encoded data removed]",
      "text/plain": [
       "<Figure size 432x288 with 1 Axes>"
      ]
     },
     "metadata": {
      "needs_background": "light"
     },
     "output_type": "display_data"
    }
   ],
   "source": [
    "# line plot of \"domainLen\" column agaisnt the \"nosOfSubdomain\" column\n",
    "sns.lineplot(data=data,y='domainLen',x='nosOfSubdomain')"
   ]
  },
  {
   "cell_type": "code",
   "execution_count": 20,
   "id": "261628cb",
   "metadata": {},
   "outputs": [
    {
     "data": {
      "text/plain": [
       "<AxesSubplot:xlabel='domainLen', ylabel='urlLen'>"
      ]
     },
     "execution_count": 20,
     "metadata": {},
     "output_type": "execute_result"
    },
    {
     "data": {
      "image/png": "[encoded data removed]",
      "text/plain": [
       "<Figure size 432x288 with 1 Axes>"
      ]
     },
     "metadata": {
      "needs_background": "light"
     },
     "output_type": "display_data"
    }
   ],
   "source": [
    "# line plot of \"urlLen\" column agaisnt the \"domainLen\" column\n",
    "sns.lineplot(data=data,x='domainLen',y='urlLen')"
   ]
  },
  {
   "cell_type": "markdown",
   "id": "274ab6ef",
   "metadata": {},
   "source": [
    "# Proceedure 3- Spliting the data for train/test\n",
    "To be able to give the data to Models,we would need to split it into the training & testing sets."
   ]
  },
  {
   "cell_type": "markdown",
   "id": "807e9767",
   "metadata": {},
   "source": [
    "**Spliting the Data**"
   ]
  },
  {
   "cell_type": "code",
   "execution_count": 21,
   "id": "051fcb81",
   "metadata": {},
   "outputs": [],
   "source": [
    "from sklearn.model_selection import train_test_split"
   ]
  },
  {
   "cell_type": "code",
   "execution_count": 22,
   "id": "9fe0114a",
   "metadata": {},
   "outputs": [],
   "source": [
    "X = data[data.columns[1:-1]].values\n",
    "y = data[data.columns[-1]].values"
   ]
  },
  {
   "cell_type": "code",
   "execution_count": 23,
   "id": "02e61870",
   "metadata": {},
   "outputs": [],
   "source": [
    "X_train, X_test, y_train, y_test = train_test_split(X, y, test_size=0.3, random_state=42)"
   ]
  },
  {
   "cell_type": "markdown",
   "id": "26116f62",
   "metadata": {},
   "source": [
    "#  Proceedure 4- Finding the best Classification model to use for prediction.\n",
    "Four different models are going to be trained & tested, they are:\n",
    "- LogisticRegression Model\n",
    "- Multinomial Bias Model\n",
    "- Support Vector classifcation Model\n",
    "- Decision Tree Model\n",
    "- XGB Classification Model<br>\n",
    "The objective is to find the model with the most efficient predictions by examining their Confusion matrix & Classification reports.The best model will then be integrated with the Feature Engineering code to make the processing & prediction tool.."
   ]
  },
  {
   "cell_type": "markdown",
   "id": "86e82119",
   "metadata": {},
   "source": [
    "1. Logisitic Regression.."
   ]
  },
  {
   "cell_type": "code",
   "execution_count": 24,
   "id": "23d8fb1b",
   "metadata": {},
   "outputs": [],
   "source": [
    "from sklearn.linear_model import LogisticRegression"
   ]
  },
  {
   "cell_type": "code",
   "execution_count": 25,
   "id": "c71b9c84",
   "metadata": {},
   "outputs": [
    {
     "data": {
      "text/plain": [
       "LogisticRegression()"
      ]
     },
     "execution_count": 25,
     "metadata": {},
     "output_type": "execute_result"
    }
   ],
   "source": [
    "lr = LogisticRegression()\n",
    "lr.fit(X_train,y_train)"
   ]
  },
  {
   "cell_type": "code",
   "execution_count": 26,
   "id": "9fa1c796",
   "metadata": {},
   "outputs": [],
   "source": [
    "pred = lr.predict(X_test)"
   ]
  },
  {
   "cell_type": "code",
   "execution_count": 27,
   "id": "4fdc122a",
   "metadata": {},
   "outputs": [],
   "source": [
    "from sklearn.metrics import classification_report, confusion_matrix"
   ]
  },
  {
   "cell_type": "code",
   "execution_count": 28,
   "id": "cbfd03c5",
   "metadata": {},
   "outputs": [
    {
     "name": "stdout",
     "output_type": "stream",
     "text": [
      "              precision    recall  f1-score   support\n",
      "\n",
      "           0       0.73      0.57      0.64     11846\n",
      "           1       0.74      0.85      0.79     16927\n",
      "\n",
      "    accuracy                           0.74     28773\n",
      "   macro avg       0.74      0.71      0.72     28773\n",
      "weighted avg       0.74      0.74      0.73     28773\n",
      "\n",
      "[[ 6730  5116]\n",
      " [ 2468 14459]]\n"
     ]
    }
   ],
   "source": [
    "print(classification_report(y_test,pred))\n",
    "print(confusion_matrix(y_test,pred))"
   ]
  },
  {
   "cell_type": "markdown",
   "id": "76bacca8",
   "metadata": {},
   "source": [
    "2. Multinomial Bias.."
   ]
  },
  {
   "cell_type": "code",
   "execution_count": 29,
   "id": "25a816cc",
   "metadata": {},
   "outputs": [],
   "source": [
    "from sklearn.naive_bayes import MultinomialNB"
   ]
  },
  {
   "cell_type": "code",
   "execution_count": 30,
   "id": "4654bb1b",
   "metadata": {},
   "outputs": [
    {
     "data": {
      "text/plain": [
       "MultinomialNB()"
      ]
     },
     "execution_count": 30,
     "metadata": {},
     "output_type": "execute_result"
    }
   ],
   "source": [
    "mnb = MultinomialNB()\n",
    "mnb.fit(X_train,y_train)"
   ]
  },
  {
   "cell_type": "code",
   "execution_count": 31,
   "id": "b4ddb5bb",
   "metadata": {},
   "outputs": [],
   "source": [
    "pred2 = mnb.predict(X_test)"
   ]
  },
  {
   "cell_type": "code",
   "execution_count": 32,
   "id": "ff819b6b",
   "metadata": {},
   "outputs": [
    {
     "name": "stdout",
     "output_type": "stream",
     "text": [
      "              precision    recall  f1-score   support\n",
      "\n",
      "           0       0.74      0.63      0.68     11846\n",
      "           1       0.77      0.84      0.80     16927\n",
      "\n",
      "    accuracy                           0.76     28773\n",
      "   macro avg       0.75      0.74      0.74     28773\n",
      "weighted avg       0.75      0.76      0.75     28773\n",
      "\n",
      "[[ 7500  4346]\n",
      " [ 2681 14246]]\n"
     ]
    }
   ],
   "source": [
    "print(classification_report(y_test,pred2))\n",
    "print(confusion_matrix(y_test,pred2))"
   ]
  },
  {
   "cell_type": "markdown",
   "id": "8c9c4a79",
   "metadata": {},
   "source": [
    "3. Support Vector Model"
   ]
  },
  {
   "cell_type": "code",
   "execution_count": 33,
   "id": "641207a1",
   "metadata": {},
   "outputs": [],
   "source": [
    "from sklearn.svm import SVC"
   ]
  },
  {
   "cell_type": "code",
   "execution_count": 34,
   "id": "971fa955",
   "metadata": {},
   "outputs": [
    {
     "data": {
      "text/plain": [
       "SVC()"
      ]
     },
     "execution_count": 34,
     "metadata": {},
     "output_type": "execute_result"
    }
   ],
   "source": [
    "svc = SVC()\n",
    "svc.fit(X_train,y_train)"
   ]
  },
  {
   "cell_type": "code",
   "execution_count": 35,
   "id": "04217a72",
   "metadata": {},
   "outputs": [],
   "source": [
    "pred3 = svc.predict(X_test)"
   ]
  },
  {
   "cell_type": "code",
   "execution_count": 36,
   "id": "f73ac2fc",
   "metadata": {},
   "outputs": [
    {
     "name": "stdout",
     "output_type": "stream",
     "text": [
      "              precision    recall  f1-score   support\n",
      "\n",
      "           0       0.73      0.70      0.71     11846\n",
      "           1       0.79      0.82      0.81     16927\n",
      "\n",
      "    accuracy                           0.77     28773\n",
      "   macro avg       0.76      0.76      0.76     28773\n",
      "weighted avg       0.77      0.77      0.77     28773\n",
      "\n",
      "[[ 8249  3597]\n",
      " [ 3014 13913]]\n"
     ]
    }
   ],
   "source": [
    "print(classification_report(y_test,pred3))\n",
    "print(confusion_matrix(y_test,pred3))"
   ]
  },
  {
   "cell_type": "markdown",
   "id": "0fa4a552",
   "metadata": {},
   "source": [
    "4. Decision Tree.."
   ]
  },
  {
   "cell_type": "code",
   "execution_count": 37,
   "id": "4d3b8811",
   "metadata": {},
   "outputs": [],
   "source": [
    "from sklearn.tree import DecisionTreeClassifier"
   ]
  },
  {
   "cell_type": "code",
   "execution_count": 38,
   "id": "b919efd5",
   "metadata": {},
   "outputs": [
    {
     "data": {
      "text/plain": [
       "DecisionTreeClassifier()"
      ]
     },
     "execution_count": 38,
     "metadata": {},
     "output_type": "execute_result"
    }
   ],
   "source": [
    "tree = DecisionTreeClassifier()\n",
    "tree.fit(X_train,y_train)"
   ]
  },
  {
   "cell_type": "code",
   "execution_count": 39,
   "id": "b7feb5f0",
   "metadata": {},
   "outputs": [],
   "source": [
    "pred4 = tree.predict(X_test)"
   ]
  },
  {
   "cell_type": "code",
   "execution_count": 40,
   "id": "9f52edbf",
   "metadata": {},
   "outputs": [
    {
     "name": "stdout",
     "output_type": "stream",
     "text": [
      "              precision    recall  f1-score   support\n",
      "\n",
      "           0       0.93      0.94      0.93     11846\n",
      "           1       0.96      0.95      0.95     16927\n",
      "\n",
      "    accuracy                           0.95     28773\n",
      "   macro avg       0.94      0.95      0.94     28773\n",
      "weighted avg       0.95      0.95      0.95     28773\n",
      "\n",
      "[[11142   704]\n",
      " [  851 16076]]\n"
     ]
    }
   ],
   "source": [
    "print(classification_report(y_test,pred4))\n",
    "print(confusion_matrix(y_test,pred4))"
   ]
  },
  {
   "cell_type": "code",
   "execution_count": 41,
   "id": "c733a4a4",
   "metadata": {},
   "outputs": [],
   "source": [
    "import xgboost"
   ]
  },
  {
   "cell_type": "code",
   "execution_count": 42,
   "id": "5ca3ac03",
   "metadata": {},
   "outputs": [
    {
     "data": {
      "text/plain": [
       "XGBClassifier(base_score=0.5, booster='gbtree', callbacks=None,\n",
       "              colsample_bylevel=1, colsample_bynode=1, colsample_bytree=1,\n",
       "              early_stopping_rounds=None, enable_categorical=False,\n",
       "              eval_metric=None, gamma=0, gpu_id=-1, grow_policy='depthwise',\n",
       "              importance_type=None, interaction_constraints='',\n",
       "              learning_rate=0.300000012, max_bin=256, max_cat_to_onehot=4,\n",
       "              max_delta_step=0, max_depth=6, max_leaves=0, min_child_weight=1,\n",
       "              missing=nan, monotone_constraints='()', n_estimators=100,\n",
       "              n_jobs=0, num_parallel_tree=1, predictor='auto', random_state=0,\n",
       "              reg_alpha=0, reg_lambda=1, ...)"
      ]
     },
     "execution_count": 42,
     "metadata": {},
     "output_type": "execute_result"
    }
   ],
   "source": [
    "boost = xgboost.XGBClassifier()\n",
    "boost.fit(X_train,y_train)"
   ]
  },
  {
   "cell_type": "code",
   "execution_count": 43,
   "id": "24ca04e5",
   "metadata": {},
   "outputs": [],
   "source": [
    "pred5 = boost.predict(X_test)"
   ]
  },
  {
   "cell_type": "code",
   "execution_count": 44,
   "id": "ed1a9c6b",
   "metadata": {},
   "outputs": [
    {
     "name": "stdout",
     "output_type": "stream",
     "text": [
      "              precision    recall  f1-score   support\n",
      "\n",
      "           0       0.94      0.94      0.94     11846\n",
      "           1       0.96      0.96      0.96     16927\n",
      "\n",
      "    accuracy                           0.95     28773\n",
      "   macro avg       0.95      0.95      0.95     28773\n",
      "weighted avg       0.95      0.95      0.95     28773\n",
      "\n",
      "[[11083   763]\n",
      " [  702 16225]]\n"
     ]
    }
   ],
   "source": [
    "print(classification_report(y_test,pred5))\n",
    "print(confusion_matrix(y_test,pred5))"
   ]
  },
  {
   "cell_type": "markdown",
   "id": "54cc6a51",
   "metadata": {},
   "source": [
    "# Proceedure 4- Creating the Feature Engineering tool to integrate with our best model\n",
    "Now that we've been able to see our best trained model,we wpuld now try to create a feature extraction system to take in urls in raw string format,extract the numerical feature values into a single list & convert the list into a 2-d numpy array to be given to the trained model.<br>\n",
    "Note that to extract the value for the \"ranking\" feature,the \"search\" function from the \"googlesearch\" package installed from pip would have been used,but it has issues with sending too many requests to the google server,so to cover this we would set all rankings to \"9999\" & from previous visualization analysis,we observe 'ranking' is not a strong feature,so we shouldn't worry too about this messing with prediction outcomes.<br> Also note that for the \"valid & activeDuration\" features, we would be using the Google whois A.P.I.."
   ]
  },
  {
   "cell_type": "code",
   "execution_count": 45,
   "id": "57709fb3",
   "metadata": {},
   "outputs": [],
   "source": [
    "import string,datetime,whois, numpy as np,random"
   ]
  },
  {
   "cell_type": "code",
   "execution_count": 46,
   "id": "64d2567f",
   "metadata": {},
   "outputs": [],
   "source": [
    "def insert_url(x):\n",
    "    arr = [] # the list that would take all the feature\n",
    "    # removing the 'http(S)/www protocol extension' from the inputted url,because of some of the features,the cleaned one will be \"clx\"\n",
    "    clx = x.split('https://')\n",
    "    clx = ''.join(i for i in clx)\n",
    "    clx = clx.split('www.')\n",
    "    clx = ''.join(i for i in clx)\n",
    "    clx = clx.split('http://')\n",
    "    clx = ''.join(i for i in clx)\n",
    "    # value for the \"ranking\" feature\n",
    "    ranking = 9999\n",
    "    arr.append(ranking)\n",
    "    # extracting the value for the \"isIp\" feature\n",
    "    xs = x.split('.')\n",
    "    try:\n",
    "        isIp = 1 if type(int(xs[0])) == int and type(int(xs[1])) == int and type(int(xs[2])) == int and type(int(xs[3])) == int else 0\n",
    "    except ValueError:\n",
    "        isIp = 0\n",
    "    arr.append(isIp)\n",
    "    # extracting the \"status\" feature with the whois api\n",
    "    try:\n",
    "        whois_check = whois.whois(x)\n",
    "        if whois_check['updated_date'] == None:\n",
    "            valid = 0\n",
    "        else:\n",
    "            valid = 1\n",
    "    except Exception:\n",
    "        valid = 0\n",
    "    arr.append(valid)\n",
    "    # extracting the \"activeDuration\" feature also with the whois api\n",
    "    if valid == 1:\n",
    "        if type(whois_check['creation_date']) == list:\n",
    "            activeDuration = (datetime.datetime.now().year - int(whois_check['creation_date'][0].year)) * 365\n",
    "        else:\n",
    "            activeDuration = ( datetime.datetime.now().year - whois_check['creation_date'].year) * 365\n",
    "    else:\n",
    "        activeDuration = 0\n",
    "    arr.append(activeDuration)\n",
    "    # value for \"urlLen\" feature\n",
    "    urlLen = len(x)\n",
    "    arr.append(urlLen)\n",
    "    # value for the \"is@\" feature\n",
    "    atSign = 1 if '@' in x else 0\n",
    "    arr.append(atSign)\n",
    "    # value for the 'isredirect' feature\n",
    "    isredirect = 1 if len(clx.split('//')) == 2 or len(clx.split('///')) == 2 or len(clx.split('////')) == 2 else 0\n",
    "    arr.append(isredirect)\n",
    "    # value for the \"haveDash\" feature\n",
    "    haveDash = 1 if '-' in x else 0\n",
    "    arr.append(haveDash)\n",
    "    # extracting the alue for the \"domainLen\" feature\n",
    "    sp = string.punctuation\n",
    "    ext = ['com','org','net','htm','html','php','co','us','info','de','ca']\n",
    "    spx = clx\n",
    "    for v in sp:\n",
    "        for v2 in ext: #removing domain extensions\n",
    "            spx = spx.split(v)\n",
    "            spx = ''.join(i for i in spx)\n",
    "            spx = spx.split(v2)\n",
    "            spx = ''.join(i for i in spx)\n",
    "    domainLen = len(spx)\n",
    "    arr.append(domainLen)\n",
    "    # extracting the value for \"noOfsubdomain\" feature\n",
    "    nx = clx\n",
    "    nx = nx.split('/')\n",
    "    nx = [i for i in nx if i != '']\n",
    "    ns_domain = len(nx)\n",
    "    arr.append(ns_domain)\n",
    "    # converting the array into a numpy array & reshaping it\n",
    "    arr = np.array(arr)\n",
    "    arr = arr.reshape(1,10)\n",
    "    pred = boost.predict(arr)\n",
    "    if pred == 0:\n",
    "        return 'Safe link',arr\n",
    "    if pred == 1:\n",
    "        return \"Harmful link\",arr"
   ]
  },
  {
   "cell_type": "code",
   "execution_count": 48,
   "id": "ea4e1044",
   "metadata": {},
   "outputs": [
    {
     "data": {
      "text/plain": [
       "('Safe link',\n",
       " array([[9999,    0,    1, 9125,   12,    0,    0,    0,    8,    1]]))"
      ]
     },
     "execution_count": 48,
     "metadata": {},
     "output_type": "execute_result"
    }
   ],
   "source": [
    "insert_url('facebook.com')"
   ]
  },
  {
   "cell_type": "markdown",
   "id": "1bbe5456",
   "metadata": {},
   "source": [
    "# Project Summary\n",
    "The aim of the project was to create an A.I powered tool for classifying urls as safe or spam,this was doneby achieving following objectives:\n",
    "- Understudying the feature-label relationship in the data to understand which features, have the most influence on an output.\n",
    "- Training & Evaluating a number of machine learning models to determine which model would make the best preictions.\n",
    "- Creating a system to transform an inputed string url into numerical values for each of the features which later be given to the best trained model for clasiffication."
   ]
  },
  {
   "cell_type": "code",
   "execution_count": null,
   "id": "4feece91",
   "metadata": {},
   "outputs": [],
   "source": []
  },
  {
   "cell_type": "code",
   "execution_count": null,
   "id": "902ea7c5",
   "metadata": {},
   "outputs": [],
   "source": []
  }
 ],
 "metadata": {
  "kernelspec": {
   "display_name": "Python 3 (ipykernel)",
   "language": "python",
   "name": "python3"
  },
  "language_info": {
   "codemirror_mode": {
    "name": "ipython",
    "version": 3
   },
   "file_extension": ".py",
   "mimetype": "text/x-python",
   "name": "python",
   "nbconvert_exporter": "python",
   "pygments_lexer": "ipython3",
   "version": "3.9.7"
  }
 },
 "nbformat": 4,
 "nbformat_minor": 5
}
